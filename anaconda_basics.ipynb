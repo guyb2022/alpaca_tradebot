{
 "cells": [
  {
   "cell_type": "code",
   "execution_count": null,
   "id": "b971ee36",
   "metadata": {},
   "outputs": [],
   "source": [
    "!pip install backtrader"
   ]
  },
  {
   "cell_type": "code",
   "execution_count": null,
   "id": "0ac54561",
   "metadata": {},
   "outputs": [],
   "source": [
    "!pip install alpaca_trade_api"
   ]
  },
  {
   "cell_type": "code",
   "execution_count": null,
   "id": "7af10b3b",
   "metadata": {},
   "outputs": [],
   "source": [
    "!pip install matplotlib==3.2.2"
   ]
  },
  {
   "cell_type": "code",
   "execution_count": null,
   "id": "cc5de3ba",
   "metadata": {},
   "outputs": [],
   "source": [
    "!pip install plotly"
   ]
  },
  {
   "cell_type": "code",
   "execution_count": null,
   "id": "0e4d2d0d",
   "metadata": {},
   "outputs": [],
   "source": [
    "%%capture\n",
    "!pip install backtrader\n",
    "!pip install alpaca_trade_api\n",
    "!pip install matplotlib==3.2.2\n",
    "!pip install plotly"
   ]
  },
  {
   "cell_type": "code",
   "execution_count": null,
   "id": "c15f53d4",
   "metadata": {},
   "outputs": [],
   "source": [
    "import config\n",
    "from alpaca_trade_api.rest import REST, TimeFrame\n",
    "from alpaca_trade_api.stream import Stream\n",
    "import plotly.graph_objects as go\n",
    "import plotly.express as px\n",
    "import alpaca_trade_api as trade_api \n",
    "import matplotlib.pyplot as plt\n",
    "import nest_asyncio\n",
    "nest_asyncio.apply()"
   ]
  },
  {
   "cell_type": "code",
   "execution_count": null,
   "id": "5249e0ff",
   "metadata": {},
   "outputs": [],
   "source": [
    "# cradentials\n",
    "API_KEY = config.API_KEY\n",
    "SECRET_KEY = config.SECRET_KEY\n",
    "BASE_URL = config.BASE_URL\n",
    "data_url = 'wss://data.alpaca.markets'\n",
    "ws_url = 'wss://data.alpaca.markets'"
   ]
  },
  {
   "cell_type": "markdown",
   "id": "42af4e18",
   "metadata": {},
   "source": [
    "## Create the rest api object"
   ]
  },
  {
   "cell_type": "code",
   "execution_count": null,
   "id": "893f9405",
   "metadata": {},
   "outputs": [],
   "source": [
    "\n",
    "rest_api = REST(API_KEY, SECRET_KEY, BASE_URL)"
   ]
  },
  {
   "cell_type": "markdown",
   "id": "7320668a",
   "metadata": {},
   "source": [
    "## retrieve daily bar data for SPY in a dataframe "
   ]
  },
  {
   "cell_type": "code",
   "execution_count": null,
   "id": "4521ea0b",
   "metadata": {},
   "outputs": [],
   "source": [
    "df_bars = rest_api.get_bars('NVDA', TimeFrame.Minute, '2023-01-01', '2023-01-07').df\n",
    "df_bars.head(10)"
   ]
  },
  {
   "cell_type": "code",
   "execution_count": null,
   "id": "56ee7bce",
   "metadata": {},
   "outputs": [],
   "source": [
    "df_bars.to_csv(\"NVDA_minutes_2023_01_01.csv\")"
   ]
  },
  {
   "cell_type": "markdown",
   "id": "e763a563",
   "metadata": {},
   "source": [
    "## Get account details"
   ]
  },
  {
   "cell_type": "code",
   "execution_count": null,
   "id": "ec4262ee",
   "metadata": {},
   "outputs": [],
   "source": [
    "rest_api.get_account()"
   ]
  },
  {
   "cell_type": "markdown",
   "id": "b18b96a3",
   "metadata": {},
   "source": [
    "## Closing all position at once"
   ]
  },
  {
   "cell_type": "code",
   "execution_count": null,
   "id": "aed20522",
   "metadata": {},
   "outputs": [],
   "source": [
    "rest_api.close_all_positions()"
   ]
  },
  {
   "cell_type": "code",
   "execution_count": null,
   "id": "c3534afb",
   "metadata": {},
   "outputs": [],
   "source": [
    "# Reformat data (drop multiindex, rename columns, reset index)\n",
    "df_bars.columns = df_bars.columns.to_flat_index()\n",
    "df_bars.columns = [x[1] for x in df_bars.columns]\n",
    "df_bars.reset_index(inplace=True)\n",
    "print(df_bars.head())\n",
    "\n",
    "# Plot stock price data\n",
    "plot = df_bars.plot(x=\"timestamp\", y=\"close\", legend=False)\n",
    "plot.set_xlabel(\"Date\")\n",
    "plot.set_ylabel(\"Apple Close Price ($)\")\n",
    "plt.show()\n"
   ]
  },
  {
   "cell_type": "markdown",
   "id": "0c03c944",
   "metadata": {},
   "source": [
    "## submit buy order"
   ]
  },
  {
   "cell_type": "code",
   "execution_count": null,
   "id": "6a431c95",
   "metadata": {},
   "outputs": [],
   "source": [
    "rest_api.submit_order(symbol='AAPL', qty=1, side='buy', type='market', time_in_force='day')"
   ]
  },
  {
   "cell_type": "markdown",
   "id": "46468438",
   "metadata": {},
   "source": [
    "## submit sell order"
   ]
  },
  {
   "cell_type": "code",
   "execution_count": null,
   "id": "3b40a8cf",
   "metadata": {},
   "outputs": [],
   "source": [
    "\n",
    "rest_api.submit_order(symbol='AAPL', qty=1, side='sell', type='market', time_in_force='day')"
   ]
  },
  {
   "cell_type": "markdown",
   "id": "591c7e85",
   "metadata": {},
   "source": [
    "## get positions of portfolio"
   ]
  },
  {
   "cell_type": "code",
   "execution_count": null,
   "id": "0f2421fa",
   "metadata": {},
   "outputs": [],
   "source": [
    "portfolio_position = rest_api.get_position('AAPL')\n",
    "print(portfolio_position)"
   ]
  },
  {
   "cell_type": "markdown",
   "id": "44cf53ca",
   "metadata": {},
   "source": [
    "## get a summery of all posessions"
   ]
  },
  {
   "cell_type": "code",
   "execution_count": null,
   "id": "2bdc9ae7",
   "metadata": {},
   "outputs": [],
   "source": [
    "portfolio = rest_api.list_positions()\n",
    "# Print the quantity of shares for each position.\n",
    "for position in portfolio:\n",
    "    print(\"{} shares of {}\".format(position.qty, position.symbol))"
   ]
  },
  {
   "cell_type": "markdown",
   "id": "1ce6c8b9",
   "metadata": {},
   "source": [
    "##  bar data candlestick plot"
   ]
  },
  {
   "cell_type": "code",
   "execution_count": null,
   "id": "b9f3a86e",
   "metadata": {},
   "outputs": [],
   "source": [
    "# SPY bar data candlestick plot\n",
    "candlestick_fig = go.Figure(data=[go.Candlestick(x=df_bars.index,\n",
    "                                                 open=df_bars['open'],\n",
    "                                                 high=df_bars['hhigh'],\n",
    "                                                 low=df_bars['low'],\n",
    "                                                 close=df_bars['close'])])\n",
    "\n",
    "# calculating 5 day SMA using pandas rolling mean\n",
    "sma = df_bars['close'].rolling(5).mean().dropna()\n",
    "\n",
    "# creating a line plot for our sma\n",
    "sma_fig = px.line(x=sma.index, y=sma)\n",
    "\n",
    "# adding both plots onto one chart\n",
    "fig = go.Figure(data=candlestick_fig.data + sma_fig.data)\n",
    "\n",
    "# displaying our chart\n",
    "fig.show()"
   ]
  },
  {
   "cell_type": "code",
   "execution_count": null,
   "id": "cf36c482",
   "metadata": {},
   "outputs": [],
   "source": [
    "import backtrader as bt\n",
    "import matplotlib as mpl\n",
    "mpl.rcParams['figure.dpi'] = 140 # chart resolution\n",
    "\n",
    "def run_backtest(strategy, symbols, start, end, timeframe=TimeFrame.Day, cash=10000):\n",
    "    '''params:\n",
    "        strategy: the strategy you wish to backtest, an instance of backtrader.Strategy\n",
    "        symbols: the symbol (str) or list of symbols List[str] you wish to backtest on\n",
    "        start: start date of backtest in format 'YYYY-MM-DD'\n",
    "        end: end date of backtest in format: 'YYYY-MM-DD'\n",
    "        timeframe: the timeframe the strategy trades on (size of bars) -\n",
    "                   1 min: TimeFrame.Minute, 1 day: TimeFrame.Day, 5 min: TimeFrame(5, TimeFrameUnit.Minute)\n",
    "        cash: the starting cash of backtest\n",
    "    '''\n",
    "\n",
    "    # initialize backtrader broker\n",
    "    cerebro = bt.Cerebro(stdstats=True)\n",
    "    cerebro.broker.setcash(cash)\n",
    "\n",
    "    # add strategy\n",
    "    cerebro.addstrategy(strategy)\n",
    "\n",
    "    # add analytics\n",
    "    # cerebro.addobserver(bt.observers.Value)\n",
    "    # cerebro.addobserver(bt.observers.BuySell)\n",
    "    cerebro.addanalyzer(bt.analyzers.SharpeRatio, _name='mysharpe')\n",
    "    \n",
    "    # historical data request\n",
    "    if type(symbols) == str:\n",
    "        symbol = symbols\n",
    "        alpaca_data = rest_api.get_bars(symbol, timeframe, start, end,  adjustment='all').df\n",
    "        data = bt.feeds.PandasData(dataname=alpaca_data, name=symbol)\n",
    "        cerebro.adddata(data)\n",
    "    elif type(symbols) == list or type(symbols) == set:\n",
    "        for symbol in symbols:\n",
    "            alpaca_data = rest_api.get_bars(symbol, timeframe, start, end, adjustment='all').df\n",
    "            data = bt.feeds.PandasData(dataname=alpaca_data, name=symbol)\n",
    "            cerebro.adddata(data)\n",
    "\n",
    "    # run\n",
    "    initial_portfolio_value = cerebro.broker.getvalue()\n",
    "    print(f'Starting Portfolio Value: {initial_portfolio_value}')\n",
    "    results = cerebro.run()\n",
    "    final_portfolio_value = cerebro.broker.getvalue()\n",
    "    print(f'Final Portfolio Value: {final_portfolio_value} ---> Return: {(final_portfolio_value/initial_portfolio_value - 1)*100}%')\n",
    "\n",
    "    strat = results[0]\n",
    "    print('Sharpe Ratio:', strat.analyzers.mysharpe.get_analysis()['sharperatio'])\n",
    "    cerebro.plot(iplot= False)"
   ]
  },
  {
   "cell_type": "code",
   "execution_count": null,
   "id": "4e0f2da9",
   "metadata": {},
   "outputs": [],
   "source": [
    "class SmaCross(bt.Strategy):\n",
    "  # list of parameters which are configurable for the strategy\n",
    "    params = dict(\n",
    "        pfast=13,  # period for the fast moving average\n",
    "        pslow=25   # period for the slow moving average\n",
    "    )\n",
    "\n",
    "    def __init__(self):\n",
    "        sma1 = bt.ind.SMA(period=self.p.pfast)  # fast moving average\n",
    "        sma2 = bt.ind.SMA(period=self.p.pslow)  # slow moving average\n",
    "        self.crossover = bt.ind.CrossOver(sma1, sma2)  # crossover signal\n",
    "  \n",
    "    def next(self):\n",
    "        if not self.position and self.crossover > 0:  # not in the market\n",
    "            self.buy()\n",
    "        elif self.position and self.crossover < 0:  # in the market & cross to the downside\n",
    "            self.close()  # close long position\n",
    "\n",
    "\n",
    "run_backtest(SmaCross, 'AAPL', '2019-01-01', '2021-11-01', TimeFrame.Day, 10000)"
   ]
  },
  {
   "cell_type": "code",
   "execution_count": null,
   "id": "f14ace09",
   "metadata": {},
   "outputs": [],
   "source": [
    "class AllWeatherStrategy(bt.Strategy):\n",
    "\n",
    "    def __init__(self):\n",
    "        # the last year we rebalanced (initialized to -1)\n",
    "        self.year_last_rebalanced = -1 \n",
    "        self.weights = { \"VTI\" : 0.30 , \"TLT\" : 0.40, \"IEF\": 0.15, \"GLD\" : 0.075, \"DBC\" : 0.075 }\n",
    "\n",
    "    def next(self):\n",
    "        # if we’ve already rebalanced this year\n",
    "        if self.datetime.date().year == self.year_last_rebalanced:\n",
    "            return\n",
    "            \n",
    "        # update year last balanced\n",
    "        self.year_last_rebalanced = self.datetime.date().year\n",
    "        \n",
    "        # enumerate through each security\n",
    "        for i,d in enumerate(self.datas):\n",
    "            # rebalance portfolio with desired target percents\n",
    "            symbol = d._name\n",
    "            self.order_target_percent(d, target=self.weights[symbol])\n",
    "\n",
    "run_backtest(AllWeatherStrategy, [\"VTI\", \"TLT\", \"IEF\", \"GLD\", \"DBC\"] , '2015-01-01', '2021-11-01', TimeFrame.Day, 10000)"
   ]
  },
  {
   "cell_type": "code",
   "execution_count": null,
   "id": "b1e45f4f",
   "metadata": {},
   "outputs": [],
   "source": [
    "import random \n",
    "\n",
    "percent_allocations = {'VTI': 0.30, 'TLT': 0.40, 'IEF': 0.15, 'GLD': 0.075, 'DBC': 0.075}\n",
    "\n",
    "\n",
    "# get total account value\n",
    "account_equity = float(rest_api.get_account().equity)\n",
    "\n",
    "\n",
    "# how many dollars we want to allocate to each symbol\n",
    "dollar_value_allocations = {symbol: percent * account_equity for symbol, percent in percent_allocations.items()}\n",
    "\n",
    "# liquidate all existing positions before rebalanc\n",
    "rest_api.close_all_positions()\n",
    "\n",
    "\n",
    "# Rebalance portfolio\n",
    "for symbol, dollars_alloc in dollar_value_allocations.items():\n",
    "     \n",
    "    # market price of current ETF\n",
    "    market_price = rest_api.get_latest_bar(symbol).close\n",
    "    \n",
    "    # how many shares we want\n",
    "    target_holdings = dollars_alloc // market_price\n",
    "     \n",
    "    # how many shares we have to buy to match target\n",
    "    order_quantity = target_holdings\n",
    "     \n",
    "    # submit market order for this ETF\n",
    "    print(f\"Submitting market order for {order_quantity} shares of {symbol}\")\n",
    "    rest_api.submit_order(symbol, order_quantity, 'buy', 'market', client_order_id=f'colab_{random.randrange(10000000)}')"
   ]
  },
  {
   "cell_type": "code",
   "execution_count": null,
   "id": "17a837c0",
   "metadata": {},
   "outputs": [],
   "source": []
  },
  {
   "cell_type": "code",
   "execution_count": null,
   "id": "e5051e01",
   "metadata": {},
   "outputs": [],
   "source": []
  },
  {
   "cell_type": "code",
   "execution_count": null,
   "id": "846348b6",
   "metadata": {},
   "outputs": [],
   "source": []
  },
  {
   "cell_type": "markdown",
   "id": "87e93752",
   "metadata": {},
   "source": [
    "# Stream bars "
   ]
  },
  {
   "cell_type": "code",
   "execution_count": null,
   "id": "5a24f944",
   "metadata": {},
   "outputs": [],
   "source": [
    "from statistics import mode\n",
    "from alpaca_trade_api.stream import Stream\n",
    "from datetime import datetime,timedelta\n",
    "from anyio import current_time\n",
    "import pandas as pd\n",
    "import logging\n",
    "import os\n",
    "import time\n",
    "import config\n",
    "import nest_asyncio\n",
    "nest_asyncio.apply()\n",
    "\n",
    "API_KEY = config.API_KEY\n",
    "SECRET_KEY = config.SECRET_KEY"
   ]
  },
  {
   "cell_type": "code",
   "execution_count": null,
   "id": "02fcad50",
   "metadata": {},
   "outputs": [],
   "source": [
    "# dummy_path = dummy.__file__ \n",
    "async def trade_bars(bars):\n",
    "    # handle all the trade/data manipulation\n",
    "    temp_df = pd.DataFrame(\n",
    "        columns=[\"Date\", \"Open\", \"High\", \"Low\", \"Close\", \"Volume\", \"Tic\", \"Vwap\"]\n",
    "    )\n",
    "    \n",
    "    present_time = datetime.utcfromtimestamp(bars.timestamp/10**9).strftime(\"%Y-%m-%d %H:%M:%S\")\n",
    "    temp_df[\"Date\"] = [present_time]\n",
    "    temp_df[\"Open\"] = [bars.open]\n",
    "    temp_df[\"High\"] = [bars.high]\n",
    "    temp_df[\"Low\"] = [bars.low]\n",
    "    temp_df[\"Close\"] = [bars.close]\n",
    "    temp_df[\"Volume\"] = [bars.volume]\n",
    "    temp_df[\"Tic\"] = [bars.symbol]\n",
    "#     temp_df[\"Exchange\"] = [bars.exchange]\n",
    "    temp_df[\"Vwap\"] = [bars.vwap]\n",
    "\n",
    "    temp_df.to_csv(\"bars.csv\", mode=\"a\", header=False)\n",
    "\n",
    "    print(bars)\n",
    "#     with open(dummy_path,\"w\") as fp:\n",
    "#         fp.write(f\"timestamp = '{datetime.now()}'\")\n",
    "\n",
    "def csv_handling(file_name: str, columns_list: list):\n",
    "    if os.path.exists(file_name):\n",
    "        try:\n",
    "            trade_temp_df = pd.read_csv(file_name)\n",
    "        except:\n",
    "            print(\"The file doesn't exist, creating it\")\n",
    "            trade_temp_df = pd.DataFrame(columns=columns_list)\n",
    "            trade_temp_df.to_csv(file_name)\n",
    "        if trade_temp_df.empty:\n",
    "            trade_temp_df = pd.DataFrame(columns=columns_list)\n",
    "            trade_temp_df.to_csv(file_name)\n",
    "        else:\n",
    "            pass\n",
    "    else:\n",
    "        trade_temp_df = pd.DataFrame(columns=columns_list)\n",
    "        trade_temp_df.to_csv(file_name)\n",
    "\n",
    "def run_connection(stream):\n",
    "    try:\n",
    "        stream.run()\n",
    "    except KeyboardInterrupt:\n",
    "        print(\"Interrupted execution by the user\")\n",
    "        loop.run_until_complete(stream.stop_ws())\n",
    "        exit(0)\n",
    "    except Exception as e:\n",
    "        print(f'Exception from websocket connection: {e}')\n",
    "    finally:\n",
    "        print('Trying to re-establish connection')\n",
    "        time.sleep(3)\n",
    "        run_connection(stream)\n",
    "\n",
    "if __name__ == \"__main__\":\n",
    "    logging.basicConfig(level=logging.INFO)\n",
    "    stream = Stream(\n",
    "        API_KEY, SECRET_KEY, base_url=\"https://paper-api.alpaca.markets\", raw_data=False,\n",
    "        data_feed='iex',\n",
    "#         crypto_exchanges = ['CBSE']\n",
    "    )\n",
    "    \n",
    "    csv_handling(\n",
    "        \"bars.csv\",\n",
    "        columns_list=[\"time\", \"open\", \"high\", \"low\", \"close\", \"volume\", \"tic\", \"exchange\",\"vwap\"],\n",
    "    )\n",
    "\n",
    "    stream.subscribe_bars(trade_bars,'NVDA')\n",
    "#     stream.subscribe_crypto_bars(trade_bars, \"ETHUSD\")\n",
    "#     stream.subscribe_crypto_bars(trade_bars, \"BTCUSD\")\n",
    "    run_connection(stream)\n",
    "    print(\"Complete\")"
   ]
  },
  {
   "cell_type": "code",
   "execution_count": null,
   "id": "fe41c691",
   "metadata": {},
   "outputs": [],
   "source": []
  }
 ],
 "metadata": {
  "kernelspec": {
   "display_name": "Python 3",
   "language": "python",
   "name": "python3"
  },
  "language_info": {
   "codemirror_mode": {
    "name": "ipython",
    "version": 3
   },
   "file_extension": ".py",
   "mimetype": "text/x-python",
   "name": "python",
   "nbconvert_exporter": "python",
   "pygments_lexer": "ipython3",
   "version": "3.8.8"
  },
  "vscode": {
   "interpreter": {
    "hash": "0f4e6422ba23e09835a630f38b8a7109617e3cc30f62a4dd412b49a31c161bbb"
   }
  }
 },
 "nbformat": 4,
 "nbformat_minor": 5
}
